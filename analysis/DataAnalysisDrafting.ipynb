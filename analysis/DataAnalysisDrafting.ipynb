{
 "cells": [
  {
   "cell_type": "code",
   "execution_count": 140,
   "metadata": {
    "collapsed": true
   },
   "outputs": [],
   "source": [
    "import numpy as np\n",
    "import pandas as pd\n",
    "import matplotlib.pyplot as plt\n",
    "import datetime as dt\n",
    "import calendar"
   ]
  },
  {
   "cell_type": "code",
   "execution_count": 67,
   "metadata": {},
   "outputs": [],
   "source": [
    "test_date = dt.datetime(2017,8,25)"
   ]
  },
  {
   "cell_type": "code",
   "execution_count": 80,
   "metadata": {},
   "outputs": [
    {
     "data": {
      "text/html": [
       "<div>\n",
       "<style>\n",
       "    .dataframe thead tr:only-child th {\n",
       "        text-align: right;\n",
       "    }\n",
       "\n",
       "    .dataframe thead th {\n",
       "        text-align: left;\n",
       "    }\n",
       "\n",
       "    .dataframe tbody tr th {\n",
       "        vertical-align: top;\n",
       "    }\n",
       "</style>\n",
       "<table border=\"1\" class=\"dataframe\">\n",
       "  <thead>\n",
       "    <tr style=\"text-align: right;\">\n",
       "      <th></th>\n",
       "      <th>Description</th>\n",
       "      <th>Original Description</th>\n",
       "      <th>Amount</th>\n",
       "      <th>Transaction Type</th>\n",
       "      <th>Category</th>\n",
       "      <th>Account Name</th>\n",
       "      <th>Labels</th>\n",
       "      <th>Notes</th>\n",
       "    </tr>\n",
       "    <tr>\n",
       "      <th>Date</th>\n",
       "      <th></th>\n",
       "      <th></th>\n",
       "      <th></th>\n",
       "      <th></th>\n",
       "      <th></th>\n",
       "      <th></th>\n",
       "      <th></th>\n",
       "      <th></th>\n",
       "    </tr>\n",
       "  </thead>\n",
       "  <tbody>\n",
       "    <tr>\n",
       "      <th>2017-09-09</th>\n",
       "      <td>Gig Car Share</td>\n",
       "      <td>GIG CAR SHARE</td>\n",
       "      <td>0.50</td>\n",
       "      <td>debit</td>\n",
       "      <td>Rental Car &amp; Taxi</td>\n",
       "      <td>Discover</td>\n",
       "      <td>NaN</td>\n",
       "      <td>NaN</td>\n",
       "    </tr>\n",
       "    <tr>\n",
       "      <th>2017-09-09</th>\n",
       "      <td>Gig Car Share</td>\n",
       "      <td>GIG CAR SHARE</td>\n",
       "      <td>0.50</td>\n",
       "      <td>debit</td>\n",
       "      <td>Rental Car &amp; Taxi</td>\n",
       "      <td>Discover</td>\n",
       "      <td>NaN</td>\n",
       "      <td>NaN</td>\n",
       "    </tr>\n",
       "    <tr>\n",
       "      <th>2017-09-10</th>\n",
       "      <td>Lyft</td>\n",
       "      <td>LYFT *RIDE SUN 2PM 855-280-0278 CA</td>\n",
       "      <td>15.38</td>\n",
       "      <td>debit</td>\n",
       "      <td>Rental Car &amp; Taxi</td>\n",
       "      <td>Discover</td>\n",
       "      <td>NaN</td>\n",
       "      <td>NaN</td>\n",
       "    </tr>\n",
       "    <tr>\n",
       "      <th>2017-09-10</th>\n",
       "      <td>Lyft</td>\n",
       "      <td>LYFT *RIDE SUN 4PM 855-280-0278 CA</td>\n",
       "      <td>10.88</td>\n",
       "      <td>debit</td>\n",
       "      <td>Rental Car &amp; Taxi</td>\n",
       "      <td>Discover</td>\n",
       "      <td>NaN</td>\n",
       "      <td>NaN</td>\n",
       "    </tr>\n",
       "    <tr>\n",
       "      <th>2017-09-09</th>\n",
       "      <td>Cafe Durant</td>\n",
       "      <td>CAFE DURANT BERKELEY CA</td>\n",
       "      <td>9.66</td>\n",
       "      <td>debit</td>\n",
       "      <td>Restaurants</td>\n",
       "      <td>Discover</td>\n",
       "      <td>NaN</td>\n",
       "      <td>NaN</td>\n",
       "    </tr>\n",
       "  </tbody>\n",
       "</table>\n",
       "</div>"
      ],
      "text/plain": [
       "              Description                Original Description  Amount  \\\n",
       "Date                                                                    \n",
       "2017-09-09  Gig Car Share                       GIG CAR SHARE    0.50   \n",
       "2017-09-09  Gig Car Share                       GIG CAR SHARE    0.50   \n",
       "2017-09-10           Lyft  LYFT *RIDE SUN 2PM 855-280-0278 CA   15.38   \n",
       "2017-09-10           Lyft  LYFT *RIDE SUN 4PM 855-280-0278 CA   10.88   \n",
       "2017-09-09    Cafe Durant             CAFE DURANT BERKELEY CA    9.66   \n",
       "\n",
       "           Transaction Type           Category Account Name  Labels  Notes  \n",
       "Date                                                                        \n",
       "2017-09-09            debit  Rental Car & Taxi     Discover     NaN    NaN  \n",
       "2017-09-09            debit  Rental Car & Taxi     Discover     NaN    NaN  \n",
       "2017-09-10            debit  Rental Car & Taxi     Discover     NaN    NaN  \n",
       "2017-09-10            debit  Rental Car & Taxi     Discover     NaN    NaN  \n",
       "2017-09-09            debit        Restaurants     Discover     NaN    NaN  "
      ]
     },
     "execution_count": 80,
     "metadata": {},
     "output_type": "execute_result"
    }
   ],
   "source": [
    "df = pd.read_csv(\"transactions.csv\")\n",
    "df['Date'] = pd.to_datetime(df['Date'])\n",
    "df = df.set_index(df['Date']).drop('Date',axis=1)\n",
    "df.head()"
   ]
  },
  {
   "cell_type": "code",
   "execution_count": 51,
   "metadata": {},
   "outputs": [],
   "source": [
    "to = dt.datetime.today()"
   ]
  },
  {
   "cell_type": "code",
   "execution_count": 139,
   "metadata": {},
   "outputs": [
    {
     "name": "stdout",
     "output_type": "stream",
     "text": [
      "{'Pharmacy', 'Public Transportation', 'Tuition', 'Gift', 'Advertising', 'Sporting Goods', 'Restaurants', 'Clothing', 'Transfer for Cash Spending', 'Rental Car & Taxi', 'Television', 'Groceries', 'Credit Card Payment', 'Air Travel', 'Doctor', 'Gym', 'Fast Food', 'Alcohol & Bars', 'Food & Dining', 'Shopping', 'Mortgage & Rent', 'Hair', 'Coffee Shops'}\n"
     ]
    }
   ],
   "source": [
    "categories = set(df['Category'])\n",
    "print(categories)"
   ]
  },
  {
   "cell_type": "code",
   "execution_count": 72,
   "metadata": {
    "collapsed": true
   },
   "outputs": [],
   "source": [
    "def getTodayExpenditure(tab, today=dt.datetime.today()):\n",
    "    '''gets amount of money spent toady'''\n",
    "    today_transactions = tab.loc[today.date()]\n",
    "    return sum(today_transactions['Amount'])"
   ]
  },
  {
   "cell_type": "code",
   "execution_count": 79,
   "metadata": {},
   "outputs": [
    {
     "name": "stdout",
     "output_type": "stream",
     "text": [
      "$ 85.64\n"
     ]
    }
   ],
   "source": [
    "test = getTodayExpenditure(df,test_date)\n",
    "print(\"$\",round(test,2))"
   ]
  },
  {
   "cell_type": "code",
   "execution_count": 165,
   "metadata": {},
   "outputs": [],
   "source": [
    "def getRangeExpenditure(tab, date_start, date_end, category=None):\n",
    "    '''returns the amount of money spent in date range'''\n",
    "    today_transactions = tab.loc[[i for i in pd.date_range(date_start, date_end).values if i in tab.index.values]]\n",
    "    today_transactions.head()\n",
    "    if (category==None):\n",
    "        return sum(today_transactions['Amount'])\n",
    "    else:\n",
    "        return sum(today_transactions[today_transactions['Category']==category]['Amount'])"
   ]
  },
  {
   "cell_type": "code",
   "execution_count": 166,
   "metadata": {},
   "outputs": [
    {
     "data": {
      "text/plain": [
       "129.41000000000003"
      ]
     },
     "execution_count": 166,
     "metadata": {},
     "output_type": "execute_result"
    }
   ],
   "source": [
    "getRangeExpenditure(df, (dt.datetime.today()-dt.timedelta(days=60)).date(),dt.datetime.today().date(), 'Restaurants')"
   ]
  },
  {
   "cell_type": "code",
   "execution_count": 225,
   "metadata": {
    "collapsed": true
   },
   "outputs": [],
   "source": [
    "def getFrequencies(tab, start_day, end_day, freq='daily'):\n",
    "    transaction_range = tab.loc[[i for i in pd.date_range(start_day, end_day).values if i in tab.index.values]]\n",
    "    out = df.groupby('Category')['Amount'].sum().to_dict()\n",
    "    if (freq == 'weekly'):\n",
    "        r = (end_day - start_day).days/7\n",
    "    elif (freq=='monthly'):\n",
    "        r = (end_day - start_day).days/30\n",
    "    elif (freq=='yearly'):\n",
    "        r = (end_day - start_day).days/365\n",
    "    else:\n",
    "        r = (end_day - start_day).days\n",
    "    for k in out:\n",
    "        out[k] = out[k]/r\n",
    "    return out"
   ]
  },
  {
   "cell_type": "code",
   "execution_count": 226,
   "metadata": {
    "collapsed": true
   },
   "outputs": [],
   "source": [
    "def getFrequenciesCounts(tab, start_day, end_day, freq='daily'):\n",
    "    transaction_range = tab.loc[[i for i in pd.date_range(start_day, end_day).values if i in tab.index.values]]\n",
    "    out = transaction_range['Category'].value_counts().to_dict()\n",
    "    if (freq == 'weekly'):\n",
    "        r = (end_day - start_day).days/7\n",
    "    elif (freq=='monthly'):\n",
    "        r = (end_day - start_day).days/30\n",
    "    elif (freq=='yearly'):\n",
    "        r = (end_day - start_day).days/365\n",
    "    else:\n",
    "        r = (end_day - start_day).days\n",
    "    for k in out:\n",
    "        out[k] = out[k]/r\n",
    "    return out"
   ]
  },
  {
   "cell_type": "code",
   "execution_count": 227,
   "metadata": {},
   "outputs": [
    {
     "data": {
      "text/plain": [
       "{'Advertising': 3.5714285714285716,\n",
       " 'Air Travel': 4.4380952380952383,\n",
       " 'Alcohol & Bars': 0.51761904761904753,\n",
       " 'Clothing': 2.6066666666666669,\n",
       " 'Coffee Shops': 2.9023809523809527,\n",
       " 'Credit Card Payment': 237.95380952380953,\n",
       " 'Doctor': 0.95238095238095233,\n",
       " 'Fast Food': 13.238095238095244,\n",
       " 'Food & Dining': 3.6738095238095241,\n",
       " 'Gift': 1.3552380952380954,\n",
       " 'Groceries': 35.310000000000002,\n",
       " 'Gym': 3.3333333333333335,\n",
       " 'Hair': 0.95238095238095233,\n",
       " 'Mortgage & Rent': 2.3809523809523809,\n",
       " 'Pharmacy': 1.5080952380952382,\n",
       " 'Public Transportation': 7.75,\n",
       " 'Rental Car & Taxi': 12.722380952380956,\n",
       " 'Restaurants': 40.12714285714285,\n",
       " 'Shopping': 80.959523809523787,\n",
       " 'Sporting Goods': 4.6404761904761909,\n",
       " 'Television': 8.3309523809523807,\n",
       " 'Transfer for Cash Spending': 7.6190476190476186,\n",
       " 'Tuition': 3.3333333333333335}"
      ]
     },
     "execution_count": 227,
     "metadata": {},
     "output_type": "execute_result"
    }
   ],
   "source": [
    "getFrequencies(df, test_date, to)"
   ]
  },
  {
   "cell_type": "code",
   "execution_count": 201,
   "metadata": {
    "collapsed": true
   },
   "outputs": [],
   "source": [
    "def getOccurrencies(tab, start_day, end_day, freq='daily'):\n",
    "    transaction_range = tab.loc[[i for i in pd.date_range(start_day, end_day).values if i in tab.index.values]]\n",
    "    out = transaction_range['Category'].value_counts().to_dict()\n",
    "    return out"
   ]
  },
  {
   "cell_type": "code",
   "execution_count": 154,
   "metadata": {
    "collapsed": true
   },
   "outputs": [],
   "source": [
    "def getFrequencyDate(time, freq='daily'):\n",
    "    \"\"\"returns the start and end dates based on the given frequency\n",
    "    possible freq = 'daily', 'weekly', 'monthly', 'yearly' \"\"\"\n",
    "    if (freq=='weekly'):\n",
    "        start = time - dt.timedelta(days=time.weekday())\n",
    "        end = start + dt.timedelta(days=6)\n",
    "    elif (freq=='monthly'):\n",
    "        start = time.replace(day=1)\n",
    "        start_day, end_day = calendar.monthrange(time.year,time.month)\n",
    "        end = time.replace(day=end_day)\n",
    "    elif (freq=='yearly'):\n",
    "        start = time.replace(month=1).replace(day=1)\n",
    "        end = time.replace(month=12).replace(day=31)\n",
    "    else:\n",
    "        start = time\n",
    "        end = time\n",
    "    return start, end"
   ]
  },
  {
   "cell_type": "code",
   "execution_count": 232,
   "metadata": {},
   "outputs": [],
   "source": [
    "overall_f = getFrequencies(df, min(df.index), max(df.index), 'monthly')"
   ]
  },
  {
   "cell_type": "code",
   "execution_count": 233,
   "metadata": {},
   "outputs": [
    {
     "data": {
      "text/plain": [
       "{'Advertising': 6.4102564102564106,\n",
       " 'Air Travel': 7.9658119658119668,\n",
       " 'Alcohol & Bars': 0.92905982905982909,\n",
       " 'Clothing': 4.6786324786324789,\n",
       " 'Coffee Shops': 5.2094017094017095,\n",
       " 'Credit Card Payment': 427.09658119658121,\n",
       " 'Doctor': 1.7094017094017095,\n",
       " 'Fast Food': 23.760683760683772,\n",
       " 'Food & Dining': 6.5940170940170946,\n",
       " 'Gift': 2.4324786324786327,\n",
       " 'Groceries': 63.376923076923077,\n",
       " 'Gym': 5.982905982905983,\n",
       " 'Hair': 1.7094017094017095,\n",
       " 'Mortgage & Rent': 4.2735042735042734,\n",
       " 'Pharmacy': 2.706837606837607,\n",
       " 'Public Transportation': 13.910256410256411,\n",
       " 'Rental Car & Taxi': 22.835042735042741,\n",
       " 'Restaurants': 72.023076923076914,\n",
       " 'Shopping': 145.31196581196579,\n",
       " 'Sporting Goods': 8.3290598290598297,\n",
       " 'Television': 14.952991452991453,\n",
       " 'Transfer for Cash Spending': 13.675213675213676,\n",
       " 'Tuition': 5.982905982905983}"
      ]
     },
     "execution_count": 233,
     "metadata": {},
     "output_type": "execute_result"
    }
   ],
   "source": [
    "overall_f"
   ]
  },
  {
   "cell_type": "code",
   "execution_count": null,
   "metadata": {
    "collapsed": true
   },
   "outputs": [],
   "source": []
  }
 ],
 "metadata": {
  "kernelspec": {
   "display_name": "Python 3",
   "language": "python",
   "name": "python3"
  },
  "language_info": {
   "codemirror_mode": {
    "name": "ipython",
    "version": 3
   },
   "file_extension": ".py",
   "mimetype": "text/x-python",
   "name": "python",
   "nbconvert_exporter": "python",
   "pygments_lexer": "ipython3",
   "version": "3.6.1"
  }
 },
 "nbformat": 4,
 "nbformat_minor": 2
}
