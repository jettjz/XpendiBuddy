{
 "cells": [
  {
   "cell_type": "code",
   "execution_count": 140,
   "metadata": {
    "collapsed": true
   },
   "outputs": [],
   "source": [
    "import numpy as np\n",
    "import pandas as pd\n",
    "import matplotlib.pyplot as plt\n",
    "import datetime as dt\n",
    "import calendar"
   ]
  },
  {
   "cell_type": "code",
   "execution_count": 67,
   "metadata": {},
   "outputs": [],
   "source": [
    "test_date = dt.datetime(2017,8,25)"
   ]
  },
  {
   "cell_type": "code",
   "execution_count": 80,
   "metadata": {},
   "outputs": [
    {
     "data": {
      "text/html": [
       "<div>\n",
       "<style>\n",
       "    .dataframe thead tr:only-child th {\n",
       "        text-align: right;\n",
       "    }\n",
       "\n",
       "    .dataframe thead th {\n",
       "        text-align: left;\n",
       "    }\n",
       "\n",
       "    .dataframe tbody tr th {\n",
       "        vertical-align: top;\n",
       "    }\n",
       "</style>\n",
       "<table border=\"1\" class=\"dataframe\">\n",
       "  <thead>\n",
       "    <tr style=\"text-align: right;\">\n",
       "      <th></th>\n",
       "      <th>Description</th>\n",
       "      <th>Original Description</th>\n",
       "      <th>Amount</th>\n",
       "      <th>Transaction Type</th>\n",
       "      <th>Category</th>\n",
       "      <th>Account Name</th>\n",
       "      <th>Labels</th>\n",
       "      <th>Notes</th>\n",
       "    </tr>\n",
       "    <tr>\n",
       "      <th>Date</th>\n",
       "      <th></th>\n",
       "      <th></th>\n",
       "      <th></th>\n",
       "      <th></th>\n",
       "      <th></th>\n",
       "      <th></th>\n",
       "      <th></th>\n",
       "      <th></th>\n",
       "    </tr>\n",
       "  </thead>\n",
       "  <tbody>\n",
       "    <tr>\n",
       "      <th>2017-09-09</th>\n",
       "      <td>Gig Car Share</td>\n",
       "      <td>GIG CAR SHARE</td>\n",
       "      <td>0.50</td>\n",
       "      <td>debit</td>\n",
       "      <td>Rental Car &amp; Taxi</td>\n",
       "      <td>Discover</td>\n",
       "      <td>NaN</td>\n",
       "      <td>NaN</td>\n",
       "    </tr>\n",
       "    <tr>\n",
       "      <th>2017-09-09</th>\n",
       "      <td>Gig Car Share</td>\n",
       "      <td>GIG CAR SHARE</td>\n",
       "      <td>0.50</td>\n",
       "      <td>debit</td>\n",
       "      <td>Rental Car &amp; Taxi</td>\n",
       "      <td>Discover</td>\n",
       "      <td>NaN</td>\n",
       "      <td>NaN</td>\n",
       "    </tr>\n",
       "    <tr>\n",
       "      <th>2017-09-10</th>\n",
       "      <td>Lyft</td>\n",
       "      <td>LYFT *RIDE SUN 2PM 855-280-0278 CA</td>\n",
       "      <td>15.38</td>\n",
       "      <td>debit</td>\n",
       "      <td>Rental Car &amp; Taxi</td>\n",
       "      <td>Discover</td>\n",
       "      <td>NaN</td>\n",
       "      <td>NaN</td>\n",
       "    </tr>\n",
       "    <tr>\n",
       "      <th>2017-09-10</th>\n",
       "      <td>Lyft</td>\n",
       "      <td>LYFT *RIDE SUN 4PM 855-280-0278 CA</td>\n",
       "      <td>10.88</td>\n",
       "      <td>debit</td>\n",
       "      <td>Rental Car &amp; Taxi</td>\n",
       "      <td>Discover</td>\n",
       "      <td>NaN</td>\n",
       "      <td>NaN</td>\n",
       "    </tr>\n",
       "    <tr>\n",
       "      <th>2017-09-09</th>\n",
       "      <td>Cafe Durant</td>\n",
       "      <td>CAFE DURANT BERKELEY CA</td>\n",
       "      <td>9.66</td>\n",
       "      <td>debit</td>\n",
       "      <td>Restaurants</td>\n",
       "      <td>Discover</td>\n",
       "      <td>NaN</td>\n",
       "      <td>NaN</td>\n",
       "    </tr>\n",
       "  </tbody>\n",
       "</table>\n",
       "</div>"
      ],
      "text/plain": [
       "              Description                Original Description  Amount  \\\n",
       "Date                                                                    \n",
       "2017-09-09  Gig Car Share                       GIG CAR SHARE    0.50   \n",
       "2017-09-09  Gig Car Share                       GIG CAR SHARE    0.50   \n",
       "2017-09-10           Lyft  LYFT *RIDE SUN 2PM 855-280-0278 CA   15.38   \n",
       "2017-09-10           Lyft  LYFT *RIDE SUN 4PM 855-280-0278 CA   10.88   \n",
       "2017-09-09    Cafe Durant             CAFE DURANT BERKELEY CA    9.66   \n",
       "\n",
       "           Transaction Type           Category Account Name  Labels  Notes  \n",
       "Date                                                                        \n",
       "2017-09-09            debit  Rental Car & Taxi     Discover     NaN    NaN  \n",
       "2017-09-09            debit  Rental Car & Taxi     Discover     NaN    NaN  \n",
       "2017-09-10            debit  Rental Car & Taxi     Discover     NaN    NaN  \n",
       "2017-09-10            debit  Rental Car & Taxi     Discover     NaN    NaN  \n",
       "2017-09-09            debit        Restaurants     Discover     NaN    NaN  "
      ]
     },
     "execution_count": 80,
     "metadata": {},
     "output_type": "execute_result"
    }
   ],
   "source": [
    "df = pd.read_csv(\"transactions.csv\")\n",
    "df['Date'] = pd.to_datetime(df['Date'])\n",
    "df = df.set_index(df['Date']).drop('Date',axis=1)\n",
    "df.head()"
   ]
  },
  {
   "cell_type": "code",
   "execution_count": 51,
   "metadata": {},
   "outputs": [],
   "source": [
    "to = dt.datetime.today()"
   ]
  },
  {
   "cell_type": "code",
   "execution_count": 139,
   "metadata": {},
   "outputs": [
    {
     "name": "stdout",
     "output_type": "stream",
     "text": [
      "{'Pharmacy', 'Public Transportation', 'Tuition', 'Gift', 'Advertising', 'Sporting Goods', 'Restaurants', 'Clothing', 'Transfer for Cash Spending', 'Rental Car & Taxi', 'Television', 'Groceries', 'Credit Card Payment', 'Air Travel', 'Doctor', 'Gym', 'Fast Food', 'Alcohol & Bars', 'Food & Dining', 'Shopping', 'Mortgage & Rent', 'Hair', 'Coffee Shops'}\n"
     ]
    }
   ],
   "source": [
    "categories = set(df['Category'])\n",
    "print(categories)"
   ]
  },
  {
   "cell_type": "code",
   "execution_count": 72,
   "metadata": {
    "collapsed": true
   },
   "outputs": [],
   "source": [
    "def getTodayExpenditure(tab, today=dt.datetime.today()):\n",
    "    '''gets amount of money spent toady'''\n",
    "    today_transactions = tab.loc[today.date()]\n",
    "    return sum(today_transactions['Amount'])"
   ]
  },
  {
   "cell_type": "code",
   "execution_count": 79,
   "metadata": {},
   "outputs": [
    {
     "name": "stdout",
     "output_type": "stream",
     "text": [
      "$ 85.64\n"
     ]
    }
   ],
   "source": [
    "test = getTodayExpenditure(df,test_date)\n",
    "print(\"$\",round(test,2))"
   ]
  },
  {
   "cell_type": "code",
   "execution_count": 137,
   "metadata": {},
   "outputs": [],
   "source": [
    "def getRangeExpenditure(tab, date_start, date_end, category=None):\n",
    "    '''returns the amount of money spent in date range'''\n",
    "    today_transactions = tab.loc[[i for i in pd.date_range(date_start, date_end).values if i in tab.index.values]]\n",
    "    today_transactions.head()\n",
    "    if (category==None):\n",
    "        return sum(today_transactions['Amount'])\n",
    "    else:\n",
    "        return sum(today_transactions[today_transactions['Category']==category]['Amount'])"
   ]
  },
  {
   "cell_type": "code",
   "execution_count": 138,
   "metadata": {},
   "outputs": [
    {
     "data": {
      "text/plain": [
       "89.379999999999995"
      ]
     },
     "execution_count": 138,
     "metadata": {},
     "output_type": "execute_result"
    }
   ],
   "source": [
    "getRangeExpenditure(df, test_date,dt.datetime.today().date(), 'Restaurants')"
   ]
  },
  {
   "cell_type": "code",
   "execution_count": null,
   "metadata": {
    "collapsed": true
   },
   "outputs": [],
   "source": [
    "def getFrequencies(tab, freq='daily'):\n",
    "    \"\"\"returns all frequencies\n",
    "    possible freq = 'daily', 'weekly', 'monthly', 'yearly' \"\"\"\n",
    "    for c in categories:\n",
    "        "
   ]
  },
  {
   "cell_type": "code",
   "execution_count": 154,
   "metadata": {
    "collapsed": true
   },
   "outputs": [],
   "source": [
    "def getFrequencyDate(time, freq='daily'):\n",
    "    \"\"\"returns the start and end dates based on the given frequency\n",
    "    possible freq = 'daily', 'weekly', 'monthly', 'yearly' \"\"\"\n",
    "    if (freq=='weekly'):\n",
    "        start = time - dt.timedelta(days=time.weekday())\n",
    "        end = start + dt.timedelta(days=6)\n",
    "    elif (freq=='monthly'):\n",
    "        start = time.replace(day=1)\n",
    "        start_day, end_day = calendar.monthrange(time.year,time.month)\n",
    "        end = time.replace(day=end_day)\n",
    "    elif (freq=='yearly'):\n",
    "        start = time.replace(month=1).replace(day=1)\n",
    "        end = time.replace(month=12).replace(day=31)\n",
    "    else:\n",
    "        start = time\n",
    "        end = time\n",
    "    return start, end"
   ]
  },
  {
   "cell_type": "code",
   "execution_count": 157,
   "metadata": {},
   "outputs": [
    {
     "name": "stdout",
     "output_type": "stream",
     "text": [
      "2017-01-01 00:00:00 2017-12-31 00:00:00\n"
     ]
    }
   ],
   "source": [
    "getFrequencyDate(df, test_date,'yearly')"
   ]
  },
  {
   "cell_type": "code",
   "execution_count": 153,
   "metadata": {},
   "outputs": [
    {
     "data": {
      "text/plain": [
       "4"
      ]
     },
     "execution_count": 153,
     "metadata": {},
     "output_type": "execute_result"
    }
   ],
   "source": []
  },
  {
   "cell_type": "code",
   "execution_count": null,
   "metadata": {
    "collapsed": true
   },
   "outputs": [],
   "source": []
  }
 ],
 "metadata": {
  "kernelspec": {
   "display_name": "Python 3",
   "language": "python",
   "name": "python3"
  },
  "language_info": {
   "codemirror_mode": {
    "name": "ipython",
    "version": 3
   },
   "file_extension": ".py",
   "mimetype": "text/x-python",
   "name": "python",
   "nbconvert_exporter": "python",
   "pygments_lexer": "ipython3",
   "version": "3.6.1"
  }
 },
 "nbformat": 4,
 "nbformat_minor": 2
}
